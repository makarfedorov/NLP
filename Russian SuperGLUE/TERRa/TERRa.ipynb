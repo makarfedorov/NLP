{
  "nbformat": 4,
  "nbformat_minor": 0,
  "metadata": {
    "colab": {
      "name": "TERRa.ipynb",
      "provenance": [],
      "collapsed_sections": []
    },
    "kernelspec": {
      "name": "python3",
      "display_name": "Python 3"
    },
    "language_info": {
      "name": "python"
    }
  },
  "cells": [
    {
      "cell_type": "code",
      "metadata": {
        "colab": {
          "base_uri": "https://localhost:8080/"
        },
        "id": "W2OL7OtG3RJr",
        "outputId": "6244d125-d181-4c92-f9d1-4e327471ff78"
      },
      "source": [
        "!wget https://russiansuperglue.com/tasks/download/TERRa"
      ],
      "execution_count": null,
      "outputs": [
        {
          "output_type": "stream",
          "text": [
            "--2021-06-26 10:28:46--  https://russiansuperglue.com/tasks/download/TERRa\n",
            "Resolving russiansuperglue.com (russiansuperglue.com)... 37.18.107.48\n",
            "Connecting to russiansuperglue.com (russiansuperglue.com)|37.18.107.48|:443... connected.\n",
            "HTTP request sent, awaiting response... 200 OK\n",
            "Length: 907346 (886K) [application/zip]\n",
            "Saving to: ‘TERRa’\n",
            "\n",
            "TERRa               100%[===================>] 886.08K  1.29MB/s    in 0.7s    \n",
            "\n",
            "2021-06-26 10:28:48 (1.29 MB/s) - ‘TERRa’ saved [907346/907346]\n",
            "\n"
          ],
          "name": "stdout"
        }
      ]
    },
    {
      "cell_type": "code",
      "metadata": {
        "id": "yXsjK7Kc3ZMW"
      },
      "source": [
        "!mv TERRa TERRa.zip"
      ],
      "execution_count": null,
      "outputs": []
    },
    {
      "cell_type": "code",
      "metadata": {
        "colab": {
          "base_uri": "https://localhost:8080/"
        },
        "id": "b8JFGAH_3eC1",
        "outputId": "402dcbd1-4441-417d-8f78-4bc31a739c20"
      },
      "source": [
        "!unzip TERRa.zip"
      ],
      "execution_count": null,
      "outputs": [
        {
          "output_type": "stream",
          "text": [
            "Archive:  TERRa.zip\n",
            "   creating: TERRa/\n",
            "  inflating: TERRa/train.jsonl       \n",
            "   creating: __MACOSX/\n",
            "   creating: __MACOSX/TERRa/\n",
            "  inflating: __MACOSX/TERRa/._train.jsonl  \n",
            "  inflating: TERRa/.DS_Store         \n",
            "  inflating: __MACOSX/TERRa/._.DS_Store  \n",
            "  inflating: TERRa/test.jsonl        \n",
            "  inflating: __MACOSX/TERRa/._test.jsonl  \n",
            "  inflating: TERRa/val.jsonl         \n",
            "  inflating: __MACOSX/TERRa/._val.jsonl  \n",
            "  inflating: __MACOSX/._TERRa        \n"
          ],
          "name": "stdout"
        }
      ]
    },
    {
      "cell_type": "code",
      "metadata": {
        "colab": {
          "base_uri": "https://localhost:8080/"
        },
        "id": "Kx9ThL-N3kbp",
        "outputId": "335653c2-3ff5-4401-fbc5-343264ecf57f"
      },
      "source": [
        "!head TERRa/train.jsonl"
      ],
      "execution_count": null,
      "outputs": [
        {
          "output_type": "stream",
          "text": [
            "{\"premise\": \"Женщину доставили в больницу, за ее жизнь сейчас борются врачи.\", \"hypothesis\": \"Женщину спасают врачи.\", \"label\": \"entailment\", \"idx\": 0}\r\n",
            "{\"premise\": \"Он проводит невидимую грань между настоящим и будущим. В эти минуты все мы подводим главные итоги года, вспоминаем самые важные события. В эти мгновения мы с волнением ждем добрых перемен.\", \"hypothesis\": \"В эти минуты все мы подводим друг друга.\", \"label\": \"not_entailment\", \"idx\": 1}\r\n",
            "{\"premise\": \"Мужчина рассказал: детская коляска, принадлежащая его семье, пропала прямо из подъезда. Как выяснили полицейские, коляску украл сосед мужчины. Он был пьян, и ему нужны были деньги.\", \"hypothesis\": \"Сосед часто крадет детские коляски ради денег.\", \"label\": \"not_entailment\", \"idx\": 2}\r\n",
            "{\"premise\": \"Я просто об этом даже не думаю, потому что если кто-то что-то захочет, никуда не спрячешься.\", \"hypothesis\": \"Спрятаться не удастся.\", \"label\": \"entailment\", \"idx\": 3}\r\n",
            "{\"premise\": \"В ходе проверки нашли дома с наледью и сосульками на крышах. Информацию о них передали коммунальщикам. Во избежание несчастных случаев спасатели рекомендуют гражданам быть осторожней, а коммунальщикам – оперативней, при выходе из зданий советуют смотреть на крыши и, по возможности, обходить края зданий.\", \"hypothesis\": \"Все сосульки с крыш были сбиты.\", \"label\": \"not_entailment\", \"idx\": 4}\r\n",
            "{\"premise\": \"Автор поста написал в комментарии, что прорвалась канализация.\", \"hypothesis\": \"Автор поста написал про канализацию.\", \"label\": \"entailment\", \"idx\": 5}\r\n",
            "{\"premise\": \"\\\"В свою очередь Владимир Путин в ходе совещания сообщил, что необходимо понимать, с какими поставщиками работают предприятия, которые дают окончательную продукцию. \\\"\\\"Там десятки тысяч поставщиков, но нам нужно понимать, что это за поставщики, чтобы это были те предприятия, которые в состоянии решать соответствующие проблемы, чтобы нам была понятна их рентабельность, чтобы распределение прибыли было понятным и прозрачным\\\"\\\", - сказал премьер. По его словам, это необходимо, потому что когда неизвестны все схемы поставщиков, министерству обороны практически невозможно разобраться в конечной цене продукции.\\\"\", \"hypothesis\": \"Путин хочет понятности и прозрачности в распределении прибыли у поставщиков оборонных предприятий.\", \"label\": \"entailment\", \"idx\": 6}\r\n",
            "{\"premise\": \"Ходатайство о продлении заявила адвокат задержанной, отметив, что следствием не были предоставлены документы, характеризующие личность задержанной.\", \"hypothesis\": \"Адвокат задержанной отметила отличную работу следствия.\", \"label\": \"not_entailment\", \"idx\": 7}\r\n",
            "{\"premise\": \"\\\"Возраст людей определить не смог. Их лица были закрыты капюшонами, - рассказал журналисту \\\"\\\"Комсомольской правды\\\"\\\"-Саратов один из автолюбителей, проезжавших на мосту. - Со стороны обоих городов образовалась пробка, так как прибывшие машины спасателей и полиции перегородили полосу движения.\\\"\", \"hypothesis\": \"Люди прятали лица под капюшонами.\", \"label\": \"entailment\", \"idx\": 8}\r\n",
            "{\"premise\": \"Родительских прав мать не лишена. Пока. А в парадном девочка оказалась, потому что дома она мешала матери выпивать.\", \"hypothesis\": \"Дочь мешала маме пить.\", \"label\": \"entailment\", \"idx\": 9}\r\n"
          ],
          "name": "stdout"
        }
      ]
    },
    {
      "cell_type": "code",
      "metadata": {
        "id": "kk7pU4By4LOc"
      },
      "source": [
        "import json\n",
        "import os\n",
        "class DataReader():\n",
        "\n",
        "  file_mapping = {\n",
        "      \"TRAIN\": \"train.jsonl\",\n",
        "      \"TEST\": \"test.jsonl\",\n",
        "      \"VALID\": \"val.jsonl\"\n",
        "  }\n",
        "\n",
        "  def __init__(self, dir_path):\n",
        "      self.train_samples = self.read_file(dir_path, \"TRAIN\")\n",
        "      self.test_samples = self.read_file(dir_path, \"TEST\")\n",
        "      self.valid_samples = self.read_file(dir_path, \"VALID\")\n",
        "\n",
        "  def read_file(self, dir_path, file_name):\n",
        "      file_path = os.path.join(dir_path, self.file_mapping[file_name])\n",
        "      jsonl_content = open(file_path).read()\n",
        "      samples = [json.loads(jline) for jline in jsonl_content.splitlines()]\n",
        "      print(f\"Number of samples - {len(samples)} - in {file_name} dataset \")\n",
        "      return samples"
      ],
      "execution_count": null,
      "outputs": []
    },
    {
      "cell_type": "code",
      "metadata": {
        "colab": {
          "base_uri": "https://localhost:8080/",
          "height": 36
        },
        "id": "5jTvQtMuEy2j",
        "outputId": "d0200223-eef6-497e-e6af-79a6fdce3b77"
      },
      "source": [
        "import pandas as pd\n",
        "\n",
        "\n",
        "class DataProcessor():\n",
        "\n",
        "  sentence_keys = [\"premise\", \"hypothesis\"]\n",
        "  target_label_key = \"label\"\n",
        "  \n",
        "  sentence_separator = \"\\n\"\n",
        "  dataframe_keys = [\"text\", \"labels\"]\n",
        "\n",
        "  def __init__(self, samples):\n",
        "    self.text_data, self.target_labels = self.prepare_data(samples)\n",
        "\n",
        "  def prepare_data(self, samples):\n",
        "    sentences_pairs = []\n",
        "    labels = []\n",
        "    for indx, sample in enumerate(samples):\n",
        "      assert isinstance(sample, dict), \\\n",
        "       f\"type(sample) should be dict but sample #{indx} is {type(sample)}\"\n",
        "      sentences_pair = []\n",
        "      for sentence_key in self.sentence_keys:\n",
        "        sentences_pair.append(sample[sentence_key])\n",
        "      sentences_pair = self.sentence_separator.join(sentences_pair)\n",
        "      sentences_pairs.append(sentences_pair)\n",
        "      labels.append(sample.get(self.target_label_key))\n",
        "\n",
        "    return sentences_pairs, labels\n",
        "\n",
        "  def to_dataframe(self):\n",
        "    return pd.DataFrame({\n",
        "        self.dataframe_keys[0]: self.text_data,\n",
        "        self.dataframe_keys[1]: self.target_labels,\n",
        "        })\n",
        "        \n",
        "dp_train = DataProcessor(dr.train_samples).to_dataframe()\n",
        "dp_valid = DataProcessor(dr.valid_samples).to_dataframe()\n",
        "\n"
      ],
      "execution_count": null,
      "outputs": [
        {
          "output_type": "execute_result",
          "data": {
            "application/vnd.google.colaboratory.intrinsic+json": {
              "type": "string"
            },
            "text/plain": [
              "'from AbstractStep'"
            ]
          },
          "metadata": {
            "tags": []
          },
          "execution_count": 135
        }
      ]
    },
    {
      "cell_type": "code",
      "metadata": {
        "colab": {
          "base_uri": "https://localhost:8080/",
          "height": 297
        },
        "id": "D7hKcNPQMauB",
        "outputId": "4db2382d-2c22-43f7-fcd4-49c987d959c1"
      },
      "source": [
        "def sp(string):\n",
        "    return len(string.split())\n",
        "    \n",
        "class Statistics():\n",
        "    def __init__(self,data):\n",
        "        self.data_set = data\n",
        "        self.new_data = self.data_set.copy()\n",
        "    def description(self):\n",
        "        self.new_data[\"number_of_tokens\"] = self.new_data[\"text\"].apply(sp)\n",
        "        self.new_data[\"number_of_characters\"] =  self.new_data[\"text\"].apply(len)\n",
        "        return self.new_data.describe()\n",
        "a = Statistics(dp_train) \n",
        "#a.data_set \n",
        "a.description()\n",
        "#dp_train"
      ],
      "execution_count": null,
      "outputs": [
        {
          "output_type": "execute_result",
          "data": {
            "text/html": [
              "<div>\n",
              "<style scoped>\n",
              "    .dataframe tbody tr th:only-of-type {\n",
              "        vertical-align: middle;\n",
              "    }\n",
              "\n",
              "    .dataframe tbody tr th {\n",
              "        vertical-align: top;\n",
              "    }\n",
              "\n",
              "    .dataframe thead th {\n",
              "        text-align: right;\n",
              "    }\n",
              "</style>\n",
              "<table border=\"1\" class=\"dataframe\">\n",
              "  <thead>\n",
              "    <tr style=\"text-align: right;\">\n",
              "      <th></th>\n",
              "      <th>number_of_tokens</th>\n",
              "      <th>number_of_characters</th>\n",
              "    </tr>\n",
              "  </thead>\n",
              "  <tbody>\n",
              "    <tr>\n",
              "      <th>count</th>\n",
              "      <td>2616.000000</td>\n",
              "      <td>2616.000000</td>\n",
              "    </tr>\n",
              "    <tr>\n",
              "      <th>mean</th>\n",
              "      <td>39.217890</td>\n",
              "      <td>284.652905</td>\n",
              "    </tr>\n",
              "    <tr>\n",
              "      <th>std</th>\n",
              "      <td>19.882848</td>\n",
              "      <td>147.238266</td>\n",
              "    </tr>\n",
              "    <tr>\n",
              "      <th>min</th>\n",
              "      <td>8.000000</td>\n",
              "      <td>44.000000</td>\n",
              "    </tr>\n",
              "    <tr>\n",
              "      <th>25%</th>\n",
              "      <td>23.000000</td>\n",
              "      <td>166.000000</td>\n",
              "    </tr>\n",
              "    <tr>\n",
              "      <th>50%</th>\n",
              "      <td>36.000000</td>\n",
              "      <td>260.000000</td>\n",
              "    </tr>\n",
              "    <tr>\n",
              "      <th>75%</th>\n",
              "      <td>52.000000</td>\n",
              "      <td>371.000000</td>\n",
              "    </tr>\n",
              "    <tr>\n",
              "      <th>max</th>\n",
              "      <td>130.000000</td>\n",
              "      <td>978.000000</td>\n",
              "    </tr>\n",
              "  </tbody>\n",
              "</table>\n",
              "</div>"
            ],
            "text/plain": [
              "       number_of_tokens  number_of_characters\n",
              "count       2616.000000           2616.000000\n",
              "mean          39.217890            284.652905\n",
              "std           19.882848            147.238266\n",
              "min            8.000000             44.000000\n",
              "25%           23.000000            166.000000\n",
              "50%           36.000000            260.000000\n",
              "75%           52.000000            371.000000\n",
              "max          130.000000            978.000000"
            ]
          },
          "metadata": {
            "tags": []
          },
          "execution_count": 82
        }
      ]
    },
    {
      "cell_type": "code",
      "metadata": {
        "id": "HI7X-0ovUcQ9"
      },
      "source": [
        "from sklearn.feature_extraction.text import TfidfVectorizer\n",
        "from sklearn.linear_model import LogisticRegression\n",
        "\n",
        "log_reg = LogisticRegression(solver='liblinear', random_state=17)\n",
        "tf_vectorizer = TfidfVectorizer(ngram_range=(1, 2), max_df=0.95, min_df=14)"
      ],
      "execution_count": null,
      "outputs": []
    },
    {
      "cell_type": "code",
      "metadata": {
        "id": "CMgM8zSAVZ_x"
      },
      "source": [
        "#!pip install ipymarkup\n",
        "from sklearn import metrics\n",
        "from sklearn.metrics import plot_confusion_matrix\n",
        "from ipymarkup import show_span_line_markup\n",
        "import warnings\n",
        "warnings.filterwarnings(\"ignore\")\n",
        "\n",
        "class ModelTrainer():\n",
        "\n",
        "  def __init__(self, featurizer, model):\n",
        "    self.featurizer = featurizer\n",
        "    self.model = model\n",
        "    self.is_fit = False\n",
        "\n",
        "  def fit(self, train_data):\n",
        "    transformed_data = self.featurizer.fit_transform(train_data.text)\n",
        "    print(\"Data was featurized\")\n",
        "    self.model.fit(transformed_data, train_data.labels)\n",
        "    print(\"Model was fitted\")\n",
        "    self.is_fit = True\n",
        "\n",
        "  def valid(self, valid_data):\n",
        "    if self.is_fit:\n",
        "      transformed_data = self.featurizer.transform(valid_data.text)\n",
        "      predicted_labels = self.model.predict(transformed_data)\n",
        "      self.eval_result(predicted_labels, valid_data.labels)\n",
        "      self.vizualize_samples(valid_data, predicted_labels)\n",
        "      print(\"Plot confusion matrix\")\n",
        "      plot_confusion_matrix(self.model, transformed_data, valid_data.labels, normalize='true')\n",
        "    else:\n",
        "      raise ValueError(\"First use method \\\"fit\\\" of ModelTrainer\")\n",
        "\n",
        "  def eval_result(self, predicted_labels, target_labels):\n",
        "    print(\"Classification Report\")\n",
        "    print(metrics.classification_report(target_labels, predicted_labels))\n",
        "\n",
        "  def vizualize_samples(self, valid_data, predicted_labels):\n",
        "      valid_data[\"predicted_labels\"] = predicted_labels\n",
        "      print()\n",
        "      print(\"Prediction samples\")\n",
        "      for indx, row in valid_data.sample(5).iterrows():\n",
        "        sentences = row.text.split(DataProcessor.sentence_separator)\n",
        "        print(f\"Sample #{indx} \\t Target label: {row.labels} \\t Predicted label: {row.predicted_labels}\")\n"
      ],
      "execution_count": null,
      "outputs": []
    },
    {
      "cell_type": "code",
      "metadata": {
        "colab": {
          "base_uri": "https://localhost:8080/",
          "height": 694
        },
        "id": "FWvuthMQdmP7",
        "outputId": "08c38a11-ba0c-421b-b135-e3b7c55837aa"
      },
      "source": [
        "class CustomPipeline():\n",
        "    def __init__(self,PATH,featurizer, model):\n",
        "        self.reader = DataReader(PATH)\n",
        "        self.train = Statistics(DataProcessor(self.reader.train_samples).to_dataframe())\n",
        "        self.valid = Statistics(DataProcessor(self.reader.valid_samples).to_dataframe())\n",
        "        self.model = ModelTrainer(featurizer, model)\n",
        "        #self.stat = Statistics(self.train)\n",
        "    def run(self):\n",
        "        fit = self.model.fit(self.train.data_set)\n",
        "        valid = self.model.valid(self.valid.data_set)\n",
        "        return valid \n",
        "\n",
        "\n",
        "m = CustomPipeline(\"/content/TERRa\",tf_vectorizer, log_reg)  \n",
        "m.run()\n",
        "\n",
        "  \n",
        "\n"
      ],
      "execution_count": null,
      "outputs": [
        {
          "output_type": "stream",
          "text": [
            "Number of samples - 2616 - in TRAIN dataset \n",
            "Number of samples - 3198 - in TEST dataset \n",
            "Number of samples - 307 - in VALID dataset \n",
            "Data was featurized\n",
            "Model was fitted\n",
            "Classification Report\n",
            "                precision    recall  f1-score   support\n",
            "\n",
            "    entailment       0.49      0.54      0.51       153\n",
            "not_entailment       0.49      0.43      0.46       154\n",
            "\n",
            "      accuracy                           0.49       307\n",
            "     macro avg       0.49      0.49      0.48       307\n",
            "  weighted avg       0.49      0.49      0.48       307\n",
            "\n",
            "\n",
            "Prediction samples\n",
            "Sample #60 \t Target label: not_entailment \t Predicted label: not_entailment\n",
            "Sample #192 \t Target label: not_entailment \t Predicted label: not_entailment\n",
            "Sample #144 \t Target label: entailment \t Predicted label: entailment\n",
            "Sample #159 \t Target label: not_entailment \t Predicted label: not_entailment\n",
            "Sample #50 \t Target label: not_entailment \t Predicted label: not_entailment\n",
            "Plot confusion matrix\n"
          ],
          "name": "stdout"
        },
        {
          "output_type": "display_data",
          "data": {
            "image/png": "[encoded data removed]",
            "text/plain": [
              "<Figure size 432x288 with 2 Axes>"
            ]
          },
          "metadata": {
            "tags": [],
            "needs_background": "light"
          }
        }
      ]
    },
    {
      "cell_type": "code",
      "metadata": {
        "colab": {
          "base_uri": "https://localhost:8080/",
          "height": 297
        },
        "id": "ekNmaN2_9M-F",
        "outputId": "15b7c804-95f8-45c7-88f6-d507559f880a"
      },
      "source": [
        "m.train.description()"
      ],
      "execution_count": null,
      "outputs": [
        {
          "output_type": "execute_result",
          "data": {
            "text/html": [
              "<div>\n",
              "<style scoped>\n",
              "    .dataframe tbody tr th:only-of-type {\n",
              "        vertical-align: middle;\n",
              "    }\n",
              "\n",
              "    .dataframe tbody tr th {\n",
              "        vertical-align: top;\n",
              "    }\n",
              "\n",
              "    .dataframe thead th {\n",
              "        text-align: right;\n",
              "    }\n",
              "</style>\n",
              "<table border=\"1\" class=\"dataframe\">\n",
              "  <thead>\n",
              "    <tr style=\"text-align: right;\">\n",
              "      <th></th>\n",
              "      <th>number_of_tokens</th>\n",
              "      <th>number_of_characters</th>\n",
              "    </tr>\n",
              "  </thead>\n",
              "  <tbody>\n",
              "    <tr>\n",
              "      <th>count</th>\n",
              "      <td>2616.000000</td>\n",
              "      <td>2616.000000</td>\n",
              "    </tr>\n",
              "    <tr>\n",
              "      <th>mean</th>\n",
              "      <td>39.217890</td>\n",
              "      <td>284.652905</td>\n",
              "    </tr>\n",
              "    <tr>\n",
              "      <th>std</th>\n",
              "      <td>19.882848</td>\n",
              "      <td>147.238266</td>\n",
              "    </tr>\n",
              "    <tr>\n",
              "      <th>min</th>\n",
              "      <td>8.000000</td>\n",
              "      <td>44.000000</td>\n",
              "    </tr>\n",
              "    <tr>\n",
              "      <th>25%</th>\n",
              "      <td>23.000000</td>\n",
              "      <td>166.000000</td>\n",
              "    </tr>\n",
              "    <tr>\n",
              "      <th>50%</th>\n",
              "      <td>36.000000</td>\n",
              "      <td>260.000000</td>\n",
              "    </tr>\n",
              "    <tr>\n",
              "      <th>75%</th>\n",
              "      <td>52.000000</td>\n",
              "      <td>371.000000</td>\n",
              "    </tr>\n",
              "    <tr>\n",
              "      <th>max</th>\n",
              "      <td>130.000000</td>\n",
              "      <td>978.000000</td>\n",
              "    </tr>\n",
              "  </tbody>\n",
              "</table>\n",
              "</div>"
            ],
            "text/plain": [
              "       number_of_tokens  number_of_characters\n",
              "count       2616.000000           2616.000000\n",
              "mean          39.217890            284.652905\n",
              "std           19.882848            147.238266\n",
              "min            8.000000             44.000000\n",
              "25%           23.000000            166.000000\n",
              "50%           36.000000            260.000000\n",
              "75%           52.000000            371.000000\n",
              "max          130.000000            978.000000"
            ]
          },
          "metadata": {
            "tags": []
          },
          "execution_count": 185
        }
      ]
    }
  ]
}